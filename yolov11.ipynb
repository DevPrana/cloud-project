{
 "cells": [
  {
   "cell_type": "code",
   "execution_count": 2,
   "metadata": {},
   "outputs": [
    {
     "name": "stdout",
     "output_type": "stream",
     "text": [
      "Creating new Ultralytics Settings v0.0.6 file ✅ \n",
      "View Ultralytics Settings with 'yolo settings' or at '/home/rohan-verma/.config/Ultralytics/settings.json'\n",
      "Update Settings with 'yolo settings key=value', i.e. 'yolo settings runs_dir=path/to/dir'. For help see https://docs.ultralytics.com/quickstart/#ultralytics-settings.\n",
      "Setup complete. Using torch 2.4.0+cu121 (CPU)\n"
     ]
    }
   ],
   "source": [
    "import torch\n",
    "from ultralytics import YOLO\n",
    "from IPython.display import Image, clear_output\n",
    "print(f\"Setup complete. Using torch {torch.__version__} ({torch.cuda.get_device_properties(0).name if torch.cuda.is_available() else 'CPU'})\")"
   ]
  },
  {
   "cell_type": "code",
   "execution_count": null,
   "metadata": {},
   "outputs": [
    {
     "name": "stdout",
     "output_type": "stream",
     "text": [
      "\n",
      "image 1/1 /home/rohan-verma/prerit.jpg: 448x448 6 Leaf Spots, 176.7ms\n",
      "Speed: 1.4ms preprocess, 176.7ms inference, 0.7ms postprocess per image at shape (1, 3, 448, 448)\n",
      "ultralytics.engine.results.Boxes object with attributes:\n",
      "\n",
      "cls: tensor([4., 4., 4., 4., 4., 4.])\n",
      "conf: tensor([0.9613, 0.9581, 0.9434, 0.9305, 0.8700, 0.4595])\n",
      "data: tensor([[7.1681e+01, 0.0000e+00, 2.6337e+02, 2.7029e+02, 9.6135e-01, 4.0000e+00],\n",
      "        [1.3694e+02, 7.6699e+01, 4.1563e+02, 4.1898e+02, 9.5813e-01, 4.0000e+00],\n",
      "        [2.6360e+02, 2.9796e+02, 4.1900e+02, 4.1900e+02, 9.4344e-01, 4.0000e+00],\n",
      "        [2.0044e-02, 0.0000e+00, 1.1839e+02, 2.6981e+02, 9.3052e-01, 4.0000e+00],\n",
      "        [3.3157e+01, 2.4887e+02, 1.8712e+02, 4.1878e+02, 8.7000e-01, 4.0000e+00],\n",
      "        [3.9654e+02, 1.6344e+02, 4.1900e+02, 3.9129e+02, 4.5949e-01, 4.0000e+00]])\n",
      "id: None\n",
      "is_track: False\n",
      "orig_shape: (419, 419)\n",
      "shape: torch.Size([6, 6])\n",
      "xywh: tensor([[167.5245, 135.1431, 191.6873, 270.2863],\n",
      "        [276.2850, 247.8380, 278.6902, 342.2787],\n",
      "        [341.2980, 358.4794, 155.4039, 121.0412],\n",
      "        [ 59.2041, 134.9067, 118.3682, 269.8135],\n",
      "        [110.1384, 333.8249, 153.9625, 169.9049],\n",
      "        [407.7722, 277.3659,  22.4555, 227.8442]])\n",
      "xywhn: tensor([[0.3998, 0.3225, 0.4575, 0.6451],\n",
      "        [0.6594, 0.5915, 0.6651, 0.8169],\n",
      "        [0.8146, 0.8556, 0.3709, 0.2889],\n",
      "        [0.1413, 0.3220, 0.2825, 0.6439],\n",
      "        [0.2629, 0.7967, 0.3675, 0.4055],\n",
      "        [0.9732, 0.6620, 0.0536, 0.5438]])\n",
      "xyxy: tensor([[7.1681e+01, 0.0000e+00, 2.6337e+02, 2.7029e+02],\n",
      "        [1.3694e+02, 7.6699e+01, 4.1563e+02, 4.1898e+02],\n",
      "        [2.6360e+02, 2.9796e+02, 4.1900e+02, 4.1900e+02],\n",
      "        [2.0044e-02, 0.0000e+00, 1.1839e+02, 2.6981e+02],\n",
      "        [3.3157e+01, 2.4887e+02, 1.8712e+02, 4.1878e+02],\n",
      "        [3.9654e+02, 1.6344e+02, 4.1900e+02, 3.9129e+02]])\n",
      "xyxyn: tensor([[1.7108e-01, 0.0000e+00, 6.2856e-01, 6.4507e-01],\n",
      "        [3.2683e-01, 1.8305e-01, 9.9196e-01, 9.9995e-01],\n",
      "        [6.2911e-01, 7.1112e-01, 1.0000e+00, 1.0000e+00],\n",
      "        [4.7837e-05, 0.0000e+00, 2.8255e-01, 6.4395e-01],\n",
      "        [7.9134e-02, 5.9397e-01, 4.4659e-01, 9.9947e-01],\n",
      "        [9.4641e-01, 3.9008e-01, 1.0000e+00, 9.3386e-01]])\n"
     ]
    }
   ],
   "source": [
    "model = YOLO(f'best.pt')\n",
    "result = model.predict(\"/home/rohan-verma/prerit.jpg\")[0]\n",
    "boxes = result.boxes\n",
    "# print(result)\n",
    "print(boxes)"
   ]
  }
 ],
 "metadata": {
  "kernelspec": {
   "display_name": "Python 3",
   "language": "python",
   "name": "python3"
  },
  "language_info": {
   "codemirror_mode": {
    "name": "ipython",
    "version": 3
   },
   "file_extension": ".py",
   "mimetype": "text/x-python",
   "name": "python",
   "nbconvert_exporter": "python",
   "pygments_lexer": "ipython3",
   "version": "3.10.6"
  }
 },
 "nbformat": 4,
 "nbformat_minor": 2
}
